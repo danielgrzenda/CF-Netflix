{
 "cells": [
  {
   "cell_type": "markdown",
   "metadata": {
    "slideshow": {
     "slide_type": "slide"
    }
   },
   "source": [
    "# Collaborative Filtering with Netflix Data"
   ]
  },
  {
   "cell_type": "markdown",
   "metadata": {},
   "source": [
    "## Imports"
   ]
  },
  {
   "cell_type": "code",
   "execution_count": 1,
   "metadata": {},
   "outputs": [
    {
     "data": {
      "text/plain": [
       "[PosixPath('data/clean_train.csv'),\n",
       " PosixPath('data/clean_combined_data_3.txt'),\n",
       " PosixPath('data/clean_combined_data_2.txt'),\n",
       " PosixPath('data/combined_data_1.txt'),\n",
       " PosixPath('data/combined_data_3.txt'),\n",
       " PosixPath('data/README'),\n",
       " PosixPath('data/clean_data.csv'),\n",
       " PosixPath('data/qualifying.txt'),\n",
       " PosixPath('data/probe.txt'),\n",
       " PosixPath('data/clean_valid.csv'),\n",
       " PosixPath('data/model_tmp.pth'),\n",
       " PosixPath('data/movie_titles.csv'),\n",
       " PosixPath('data/clean_combined_data_1.txt'),\n",
       " PosixPath('data/clean_test.csv'),\n",
       " PosixPath('data/combined_data_2.txt'),\n",
       " PosixPath('data/clean_combined_data_4.txt'),\n",
       " PosixPath('data/combined_data_4.txt')]"
      ]
     },
     "execution_count": 1,
     "metadata": {},
     "output_type": "execute_result"
    }
   ],
   "source": [
    "%reload_ext autoreload\n",
    "%autoreload 2\n",
    "%matplotlib inline\n",
    "\n",
    "import pandas as pd\n",
    "import numpy as np\n",
    "import matplotlib.pyplot as plt\n",
    "\n",
    "import torch\n",
    "from torch.utils.data import Dataset, DataLoader\n",
    "from torch.autograd import Variable\n",
    "import torch.optim as optim\n",
    "import torch.nn as nn\n",
    "import torch.nn.functional as F\n",
    "from torchvision import models\n",
    "\n",
    "import random\n",
    "import math\n",
    "from pathlib import Path\n",
    "PATH = Path(\"./data/\")\n",
    "list(PATH.iterdir())"
   ]
  },
  {
   "cell_type": "markdown",
   "metadata": {
    "slideshow": {
     "slide_type": "slide"
    }
   },
   "source": [
    "## Data Cleaning"
   ]
  },
  {
   "cell_type": "code",
   "execution_count": 2,
   "metadata": {
    "slideshow": {
     "slide_type": "slide"
    }
   },
   "outputs": [],
   "source": [
    "from pathlib import Path\n",
    "import pandas as pd\n",
    "import numpy as np"
   ]
  },
  {
   "cell_type": "code",
   "execution_count": 3,
   "metadata": {
    "slideshow": {
     "slide_type": "fragment"
    }
   },
   "outputs": [
    {
     "data": {
      "text/plain": [
       "[PosixPath('data/clean_train.csv'),\n",
       " PosixPath('data/clean_combined_data_3.txt'),\n",
       " PosixPath('data/clean_combined_data_2.txt'),\n",
       " PosixPath('data/combined_data_1.txt'),\n",
       " PosixPath('data/combined_data_3.txt'),\n",
       " PosixPath('data/README'),\n",
       " PosixPath('data/clean_data.csv'),\n",
       " PosixPath('data/qualifying.txt'),\n",
       " PosixPath('data/probe.txt'),\n",
       " PosixPath('data/clean_valid.csv'),\n",
       " PosixPath('data/model_tmp.pth'),\n",
       " PosixPath('data/movie_titles.csv'),\n",
       " PosixPath('data/clean_combined_data_1.txt'),\n",
       " PosixPath('data/clean_test.csv'),\n",
       " PosixPath('data/combined_data_2.txt'),\n",
       " PosixPath('data/clean_combined_data_4.txt'),\n",
       " PosixPath('data/combined_data_4.txt')]"
      ]
     },
     "execution_count": 3,
     "metadata": {},
     "output_type": "execute_result"
    }
   ],
   "source": [
    "PATH = Path(\"./data/\")\n",
    "list(PATH.iterdir())"
   ]
  },
  {
   "cell_type": "code",
   "execution_count": 4,
   "metadata": {
    "slideshow": {
     "slide_type": "fragment"
    }
   },
   "outputs": [
    {
     "name": "stdout",
     "output_type": "stream",
     "text": [
      "1:\r\n",
      "1488844,3,2005-09-06\r\n",
      "822109,5,2005-05-13\r\n",
      "885013,4,2005-10-19\r\n",
      "30878,4,2005-12-26\r\n"
     ]
    }
   ],
   "source": [
    "! head -n 5 ./data/combined_data_1.txt"
   ]
  },
  {
   "cell_type": "code",
   "execution_count": 5,
   "metadata": {},
   "outputs": [],
   "source": [
    "txt_files = ['combined_data_1.txt', 'combined_data_2.txt', 'combined_data_3.txt', 'combined_data_4.txt']\n",
    "for file in txt_files: \n",
    "    full_file = str(PATH) + '/' + file\n",
    "    with open(full_file) as f:\n",
    "        content = f.readlines()\n",
    "        clean_content_fname = str(PATH) + '/clean_' + str(file)\n",
    "        clean_content = open(clean_content_fname, 'w')\n",
    "        for line in content:\n",
    "            if ':' in line:\n",
    "                mv_id = line\n",
    "                mv_id = mv_id.replace(':', '')\n",
    "                mv_id = mv_id.replace('\\n', '')\n",
    "            else:\n",
    "                line = mv_id + ',' + line\n",
    "                clean_content.write(line)\n",
    "        clean_content.close()"
   ]
  },
  {
   "cell_type": "code",
   "execution_count": 6,
   "metadata": {},
   "outputs": [],
   "source": [
    "df1 = pd.read_csv(PATH/\"clean_combined_data_1.txt\", names = ['userId','rating','date'], index_col = None)\n",
    "df2 = pd.read_csv(PATH/\"clean_combined_data_2.txt\", names = ['userId','rating','date'], index_col = None)\n",
    "df3 = pd.read_csv(PATH/\"clean_combined_data_3.txt\", names = ['userId','rating','date'], index_col = None)\n",
    "df4 = pd.read_csv(PATH/\"clean_combined_data_4.txt\", names = ['userId','rating','date'], index_col = None)"
   ]
  },
  {
   "cell_type": "code",
   "execution_count": 7,
   "metadata": {},
   "outputs": [],
   "source": [
    "def append_frames(*args):\n",
    "    df = args[0]\n",
    "    for frame in args[1:]: \n",
    "        df.append(frame)\n",
    "        # del frame -- TODO: needed or not?\n",
    "    return df"
   ]
  },
  {
   "cell_type": "code",
   "execution_count": 8,
   "metadata": {},
   "outputs": [],
   "source": [
    "df = df1\n",
    "del df1 #deallocation\n",
    "df = df.append(df2)\n",
    "del df2 #deallocation\n",
    "df = df.append(df3)\n",
    "del df3 #deallocation\n",
    "df = df.append(df4)\n",
    "del df4 #deallocation"
   ]
  },
  {
   "cell_type": "code",
   "execution_count": 9,
   "metadata": {},
   "outputs": [
    {
     "data": {
      "text/plain": [
       "(100480507, 3)"
      ]
     },
     "execution_count": 9,
     "metadata": {},
     "output_type": "execute_result"
    }
   ],
   "source": [
    "df.shape"
   ]
  },
  {
   "cell_type": "code",
   "execution_count": 10,
   "metadata": {},
   "outputs": [
    {
     "data": {
      "text/html": [
       "<div>\n",
       "<style scoped>\n",
       "    .dataframe tbody tr th:only-of-type {\n",
       "        vertical-align: middle;\n",
       "    }\n",
       "\n",
       "    .dataframe tbody tr th {\n",
       "        vertical-align: top;\n",
       "    }\n",
       "\n",
       "    .dataframe thead th {\n",
       "        text-align: right;\n",
       "    }\n",
       "</style>\n",
       "<table border=\"1\" class=\"dataframe\">\n",
       "  <thead>\n",
       "    <tr style=\"text-align: right;\">\n",
       "      <th></th>\n",
       "      <th>userId</th>\n",
       "      <th>rating</th>\n",
       "      <th>date</th>\n",
       "    </tr>\n",
       "  </thead>\n",
       "  <tbody>\n",
       "    <tr>\n",
       "      <th>1</th>\n",
       "      <td>1488844</td>\n",
       "      <td>3</td>\n",
       "      <td>2005-09-06</td>\n",
       "    </tr>\n",
       "    <tr>\n",
       "      <th>1</th>\n",
       "      <td>822109</td>\n",
       "      <td>5</td>\n",
       "      <td>2005-05-13</td>\n",
       "    </tr>\n",
       "    <tr>\n",
       "      <th>1</th>\n",
       "      <td>885013</td>\n",
       "      <td>4</td>\n",
       "      <td>2005-10-19</td>\n",
       "    </tr>\n",
       "    <tr>\n",
       "      <th>1</th>\n",
       "      <td>30878</td>\n",
       "      <td>4</td>\n",
       "      <td>2005-12-26</td>\n",
       "    </tr>\n",
       "    <tr>\n",
       "      <th>1</th>\n",
       "      <td>823519</td>\n",
       "      <td>3</td>\n",
       "      <td>2004-05-03</td>\n",
       "    </tr>\n",
       "  </tbody>\n",
       "</table>\n",
       "</div>"
      ],
      "text/plain": [
       "    userId  rating        date\n",
       "1  1488844       3  2005-09-06\n",
       "1   822109       5  2005-05-13\n",
       "1   885013       4  2005-10-19\n",
       "1    30878       4  2005-12-26\n",
       "1   823519       3  2004-05-03"
      ]
     },
     "execution_count": 10,
     "metadata": {},
     "output_type": "execute_result"
    }
   ],
   "source": [
    "df.head()"
   ]
  },
  {
   "cell_type": "code",
   "execution_count": 11,
   "metadata": {},
   "outputs": [],
   "source": [
    "df['movieId'] = df.index.values"
   ]
  },
  {
   "cell_type": "code",
   "execution_count": 12,
   "metadata": {},
   "outputs": [],
   "source": [
    "df = df.reset_index(drop=True)"
   ]
  },
  {
   "cell_type": "code",
   "execution_count": 18,
   "metadata": {},
   "outputs": [
    {
     "data": {
      "text/plain": [
       "0"
      ]
     },
     "execution_count": 18,
     "metadata": {},
     "output_type": "execute_result"
    }
   ],
   "source": [
    "sum(pd.notnull(df['rating'])) - len(df)"
   ]
  },
  {
   "cell_type": "code",
   "execution_count": 20,
   "metadata": {},
   "outputs": [],
   "source": [
    "df_nonull = df[pd.notnull(df['rating'])]"
   ]
  },
  {
   "cell_type": "code",
   "execution_count": 21,
   "metadata": {},
   "outputs": [
    {
     "data": {
      "text/plain": [
       "False"
      ]
     },
     "execution_count": 21,
     "metadata": {},
     "output_type": "execute_result"
    }
   ],
   "source": [
    "df_nonull.isnull().values.any()"
   ]
  },
  {
   "cell_type": "code",
   "execution_count": 22,
   "metadata": {},
   "outputs": [],
   "source": [
    "df_nonull.to_csv(PATH/\"clean_data.csv\",index=False)"
   ]
  },
  {
   "cell_type": "code",
   "execution_count": 23,
   "metadata": {},
   "outputs": [],
   "source": [
    "df = pd.read_csv(PATH/\"clean_data.csv\")"
   ]
  },
  {
   "cell_type": "code",
   "execution_count": 24,
   "metadata": {},
   "outputs": [
    {
     "data": {
      "text/html": [
       "<div>\n",
       "<style scoped>\n",
       "    .dataframe tbody tr th:only-of-type {\n",
       "        vertical-align: middle;\n",
       "    }\n",
       "\n",
       "    .dataframe tbody tr th {\n",
       "        vertical-align: top;\n",
       "    }\n",
       "\n",
       "    .dataframe thead th {\n",
       "        text-align: right;\n",
       "    }\n",
       "</style>\n",
       "<table border=\"1\" class=\"dataframe\">\n",
       "  <thead>\n",
       "    <tr style=\"text-align: right;\">\n",
       "      <th></th>\n",
       "      <th>userId</th>\n",
       "      <th>rating</th>\n",
       "      <th>date</th>\n",
       "      <th>movieId</th>\n",
       "    </tr>\n",
       "  </thead>\n",
       "  <tbody>\n",
       "    <tr>\n",
       "      <th>0</th>\n",
       "      <td>1488844</td>\n",
       "      <td>3</td>\n",
       "      <td>2005-09-06</td>\n",
       "      <td>1</td>\n",
       "    </tr>\n",
       "    <tr>\n",
       "      <th>1</th>\n",
       "      <td>822109</td>\n",
       "      <td>5</td>\n",
       "      <td>2005-05-13</td>\n",
       "      <td>1</td>\n",
       "    </tr>\n",
       "    <tr>\n",
       "      <th>2</th>\n",
       "      <td>885013</td>\n",
       "      <td>4</td>\n",
       "      <td>2005-10-19</td>\n",
       "      <td>1</td>\n",
       "    </tr>\n",
       "    <tr>\n",
       "      <th>3</th>\n",
       "      <td>30878</td>\n",
       "      <td>4</td>\n",
       "      <td>2005-12-26</td>\n",
       "      <td>1</td>\n",
       "    </tr>\n",
       "    <tr>\n",
       "      <th>4</th>\n",
       "      <td>823519</td>\n",
       "      <td>3</td>\n",
       "      <td>2004-05-03</td>\n",
       "      <td>1</td>\n",
       "    </tr>\n",
       "  </tbody>\n",
       "</table>\n",
       "</div>"
      ],
      "text/plain": [
       "    userId  rating        date  movieId\n",
       "0  1488844       3  2005-09-06        1\n",
       "1   822109       5  2005-05-13        1\n",
       "2   885013       4  2005-10-19        1\n",
       "3    30878       4  2005-12-26        1\n",
       "4   823519       3  2004-05-03        1"
      ]
     },
     "execution_count": 24,
     "metadata": {},
     "output_type": "execute_result"
    }
   ],
   "source": [
    "df.head()"
   ]
  },
  {
   "cell_type": "markdown",
   "metadata": {
    "heading_collapsed": true
   },
   "source": [
    "## Encode Data"
   ]
  },
  {
   "cell_type": "code",
   "execution_count": 25,
   "metadata": {
    "hidden": true
   },
   "outputs": [
    {
     "data": {
      "text/html": [
       "<div>\n",
       "<style scoped>\n",
       "    .dataframe tbody tr th:only-of-type {\n",
       "        vertical-align: middle;\n",
       "    }\n",
       "\n",
       "    .dataframe tbody tr th {\n",
       "        vertical-align: top;\n",
       "    }\n",
       "\n",
       "    .dataframe thead th {\n",
       "        text-align: right;\n",
       "    }\n",
       "</style>\n",
       "<table border=\"1\" class=\"dataframe\">\n",
       "  <thead>\n",
       "    <tr style=\"text-align: right;\">\n",
       "      <th></th>\n",
       "      <th>userId</th>\n",
       "      <th>rating</th>\n",
       "      <th>date</th>\n",
       "      <th>movieId</th>\n",
       "    </tr>\n",
       "  </thead>\n",
       "  <tbody>\n",
       "    <tr>\n",
       "      <th>56431994</th>\n",
       "      <td>510180</td>\n",
       "      <td>4</td>\n",
       "      <td>1999-11-11</td>\n",
       "      <td>10341</td>\n",
       "    </tr>\n",
       "    <tr>\n",
       "      <th>9056171</th>\n",
       "      <td>510180</td>\n",
       "      <td>5</td>\n",
       "      <td>1999-11-11</td>\n",
       "      <td>1798</td>\n",
       "    </tr>\n",
       "    <tr>\n",
       "      <th>58698779</th>\n",
       "      <td>510180</td>\n",
       "      <td>3</td>\n",
       "      <td>1999-11-11</td>\n",
       "      <td>10774</td>\n",
       "    </tr>\n",
       "    <tr>\n",
       "      <th>48101611</th>\n",
       "      <td>510180</td>\n",
       "      <td>2</td>\n",
       "      <td>1999-11-11</td>\n",
       "      <td>8651</td>\n",
       "    </tr>\n",
       "    <tr>\n",
       "      <th>81893208</th>\n",
       "      <td>510180</td>\n",
       "      <td>2</td>\n",
       "      <td>1999-11-11</td>\n",
       "      <td>14660</td>\n",
       "    </tr>\n",
       "  </tbody>\n",
       "</table>\n",
       "</div>"
      ],
      "text/plain": [
       "          userId  rating       date  movieId\n",
       "56431994  510180       4 1999-11-11    10341\n",
       "9056171   510180       5 1999-11-11     1798\n",
       "58698779  510180       3 1999-11-11    10774\n",
       "48101611  510180       2 1999-11-11     8651\n",
       "81893208  510180       2 1999-11-11    14660"
      ]
     },
     "execution_count": 25,
     "metadata": {},
     "output_type": "execute_result"
    }
   ],
   "source": [
    "# split train and validation before encoding\n",
    "df['date'] =pd.to_datetime(df.date)\n",
    "df = df.sort_values(by='date')\n",
    "df.head()"
   ]
  },
  {
   "cell_type": "code",
   "execution_count": 26,
   "metadata": {
    "hidden": true
   },
   "outputs": [
    {
     "name": "stdout",
     "output_type": "stream",
     "text": [
      "(98480507, 4) (2000000, 4) (2000000, 4)\n",
      "(100480507, 4)\n"
     ]
    }
   ],
   "source": [
    "test_size = 1000000\n",
    "valid_size = 1000000\n",
    "train_size = len(df) - (test_size+valid_size)\n",
    "test_df = df[-2000000:]\n",
    "valid_df = df[-4000000:-2000000]\n",
    "train_df = df.head(train_size)\n",
    "print(train_df.shape, valid_df.shape, test_df.shape)\n",
    "print(df.shape)\n",
    "del df"
   ]
  },
  {
   "cell_type": "code",
   "execution_count": 27,
   "metadata": {
    "hidden": true
   },
   "outputs": [],
   "source": [
    "# here is a handy function modified from fast.ai\n",
    "def proc_col(col, train_col=None):\n",
    "    \"\"\"Encodes a pandas column with continous ids. \n",
    "    \"\"\"\n",
    "    if train_col is not None:\n",
    "        uniq = train_col.unique()\n",
    "    else:\n",
    "        uniq = col.unique()\n",
    "    name2idx = {o:i for i,o in enumerate(uniq)}\n",
    "    return name2idx, np.array([name2idx.get(x, -1) for x in col]), len(uniq)\n",
    "\n",
    "def encode_data(df, train=None):\n",
    "    \"\"\" Encodes rating data with continous user and movie ids. \n",
    "    If train is provided, encodes df with the same encoding as train.\n",
    "    \"\"\"\n",
    "    df = df.copy()\n",
    "    for col_name in [\"userId\", \"movieId\"]:\n",
    "        train_col = None\n",
    "        if train is not None:\n",
    "            train_col = train[col_name]\n",
    "        _,col,_ = proc_col(df[col_name], train_col)\n",
    "        df[col_name] = col\n",
    "        df = df[df[col_name] >= 0]\n",
    "    return df"
   ]
  },
  {
   "cell_type": "code",
   "execution_count": 28,
   "metadata": {
    "hidden": true
   },
   "outputs": [
    {
     "data": {
      "text/html": [
       "<div>\n",
       "<style scoped>\n",
       "    .dataframe tbody tr th:only-of-type {\n",
       "        vertical-align: middle;\n",
       "    }\n",
       "\n",
       "    .dataframe tbody tr th {\n",
       "        vertical-align: top;\n",
       "    }\n",
       "\n",
       "    .dataframe thead th {\n",
       "        text-align: right;\n",
       "    }\n",
       "</style>\n",
       "<table border=\"1\" class=\"dataframe\">\n",
       "  <thead>\n",
       "    <tr style=\"text-align: right;\">\n",
       "      <th></th>\n",
       "      <th>userId</th>\n",
       "      <th>rating</th>\n",
       "      <th>date</th>\n",
       "      <th>movieId</th>\n",
       "    </tr>\n",
       "  </thead>\n",
       "  <tbody>\n",
       "    <tr>\n",
       "      <th>56431994</th>\n",
       "      <td>0</td>\n",
       "      <td>4</td>\n",
       "      <td>1999-11-11</td>\n",
       "      <td>0</td>\n",
       "    </tr>\n",
       "    <tr>\n",
       "      <th>9056171</th>\n",
       "      <td>0</td>\n",
       "      <td>5</td>\n",
       "      <td>1999-11-11</td>\n",
       "      <td>1</td>\n",
       "    </tr>\n",
       "    <tr>\n",
       "      <th>58698779</th>\n",
       "      <td>0</td>\n",
       "      <td>3</td>\n",
       "      <td>1999-11-11</td>\n",
       "      <td>2</td>\n",
       "    </tr>\n",
       "    <tr>\n",
       "      <th>48101611</th>\n",
       "      <td>0</td>\n",
       "      <td>2</td>\n",
       "      <td>1999-11-11</td>\n",
       "      <td>3</td>\n",
       "    </tr>\n",
       "    <tr>\n",
       "      <th>81893208</th>\n",
       "      <td>0</td>\n",
       "      <td>2</td>\n",
       "      <td>1999-11-11</td>\n",
       "      <td>4</td>\n",
       "    </tr>\n",
       "  </tbody>\n",
       "</table>\n",
       "</div>"
      ],
      "text/plain": [
       "          userId  rating       date  movieId\n",
       "56431994       0       4 1999-11-11        0\n",
       "9056171        0       5 1999-11-11        1\n",
       "58698779       0       3 1999-11-11        2\n",
       "48101611       0       2 1999-11-11        3\n",
       "81893208       0       2 1999-11-11        4"
      ]
     },
     "execution_count": 28,
     "metadata": {},
     "output_type": "execute_result"
    }
   ],
   "source": [
    "train_df = encode_data(train_df)\n",
    "valid_df = encode_data(valid_df, train_df)\n",
    "test_df = encode_data(test_df, train_df)\n",
    "train_df.head()"
   ]
  },
  {
   "cell_type": "code",
   "execution_count": 29,
   "metadata": {
    "hidden": true
   },
   "outputs": [],
   "source": [
    "train_df.to_csv(PATH/\"clean_train.csv\",index=False)\n",
    "valid_df.to_csv(PATH/\"clean_valid.csv\", index=False)\n",
    "test_df.to_csv(PATH/\"clean_test.csv\",index=False)"
   ]
  },
  {
   "cell_type": "markdown",
   "metadata": {},
   "source": [
    "## Restart Point"
   ]
  },
  {
   "cell_type": "code",
   "execution_count": 21,
   "metadata": {},
   "outputs": [],
   "source": [
    "train_df = pd.read_csv(PATH/\"clean_train.csv\")\n",
    "valid_df = pd.read_csv(PATH/\"clean_valid.csv\")\n",
    "test_df = pd.read_csv(PATH/\"clean_test.csv\")"
   ]
  },
  {
   "cell_type": "code",
   "execution_count": 22,
   "metadata": {},
   "outputs": [
    {
     "data": {
      "text/html": [
       "<div>\n",
       "<style scoped>\n",
       "    .dataframe tbody tr th:only-of-type {\n",
       "        vertical-align: middle;\n",
       "    }\n",
       "\n",
       "    .dataframe tbody tr th {\n",
       "        vertical-align: top;\n",
       "    }\n",
       "\n",
       "    .dataframe thead th {\n",
       "        text-align: right;\n",
       "    }\n",
       "</style>\n",
       "<table border=\"1\" class=\"dataframe\">\n",
       "  <thead>\n",
       "    <tr style=\"text-align: right;\">\n",
       "      <th></th>\n",
       "      <th>userId</th>\n",
       "      <th>rating</th>\n",
       "      <th>date</th>\n",
       "      <th>movieId</th>\n",
       "    </tr>\n",
       "  </thead>\n",
       "  <tbody>\n",
       "    <tr>\n",
       "      <th>0</th>\n",
       "      <td>0</td>\n",
       "      <td>4</td>\n",
       "      <td>1999-11-11</td>\n",
       "      <td>0</td>\n",
       "    </tr>\n",
       "    <tr>\n",
       "      <th>1</th>\n",
       "      <td>0</td>\n",
       "      <td>5</td>\n",
       "      <td>1999-11-11</td>\n",
       "      <td>1</td>\n",
       "    </tr>\n",
       "    <tr>\n",
       "      <th>2</th>\n",
       "      <td>0</td>\n",
       "      <td>3</td>\n",
       "      <td>1999-11-11</td>\n",
       "      <td>2</td>\n",
       "    </tr>\n",
       "    <tr>\n",
       "      <th>3</th>\n",
       "      <td>0</td>\n",
       "      <td>2</td>\n",
       "      <td>1999-11-11</td>\n",
       "      <td>3</td>\n",
       "    </tr>\n",
       "    <tr>\n",
       "      <th>4</th>\n",
       "      <td>0</td>\n",
       "      <td>2</td>\n",
       "      <td>1999-11-11</td>\n",
       "      <td>4</td>\n",
       "    </tr>\n",
       "  </tbody>\n",
       "</table>\n",
       "</div>"
      ],
      "text/plain": [
       "   userId  rating        date  movieId\n",
       "0       0       4  1999-11-11        0\n",
       "1       0       5  1999-11-11        1\n",
       "2       0       3  1999-11-11        2\n",
       "3       0       2  1999-11-11        3\n",
       "4       0       2  1999-11-11        4"
      ]
     },
     "execution_count": 22,
     "metadata": {},
     "output_type": "execute_result"
    }
   ],
   "source": [
    "train_df.head()"
   ]
  },
  {
   "cell_type": "code",
   "execution_count": 23,
   "metadata": {},
   "outputs": [],
   "source": [
    "train_df.drop('date',axis=1,inplace=True)\n",
    "valid_df.drop('date',axis=1,inplace=True)\n",
    "test_df.drop('date',axis=1,inplace=True)"
   ]
  },
  {
   "cell_type": "code",
   "execution_count": 24,
   "metadata": {},
   "outputs": [
    {
     "data": {
      "text/plain": [
       "numpy.int64"
      ]
     },
     "execution_count": 24,
     "metadata": {},
     "output_type": "execute_result"
    }
   ],
   "source": [
    "type(train_df['userId'][0])"
   ]
  },
  {
   "cell_type": "code",
   "execution_count": 25,
   "metadata": {},
   "outputs": [],
   "source": [
    "train_df = train_df.astype('int32',copy=False)\n",
    "valid_df = valid_df.astype('int32', copy=False)\n",
    "test_df = test_df.astype('int32', copy=False)"
   ]
  },
  {
   "cell_type": "code",
   "execution_count": 26,
   "metadata": {},
   "outputs": [
    {
     "data": {
      "text/plain": [
       "numpy.int32"
      ]
     },
     "execution_count": 26,
     "metadata": {},
     "output_type": "execute_result"
    }
   ],
   "source": [
    "type(train_df['userId'][0])"
   ]
  },
  {
   "cell_type": "markdown",
   "metadata": {},
   "source": [
    "## DataSet and DataLoader"
   ]
  },
  {
   "cell_type": "code",
   "execution_count": 27,
   "metadata": {},
   "outputs": [],
   "source": [
    "from torch.utils import data\n",
    "class NetflixDataset(data.Dataset):\n",
    "    def __init__(self, df, transform=None):\n",
    "        self.length = len(df)\n",
    "        self.y = torch.FloatTensor(df['rating'].values)\n",
    "        self.x = torch.LongTensor(df.drop('rating',axis=1).values)\n",
    "        self.transform = transform\n",
    "        \n",
    "    def __len__(self):\n",
    "        return self.length\n",
    "    \n",
    "    def __getitem__(self,index):\n",
    "        sample = {'x':self.x[index], 'y':self.y[index]}\n",
    "        return sample"
   ]
  },
  {
   "cell_type": "code",
   "execution_count": 28,
   "metadata": {},
   "outputs": [],
   "source": [
    "train_ds = NetflixDataset(train_df)\n",
    "valid_ds = NetflixDataset(valid_df)\n",
    "test_ds = NetflixDataset(test_df)"
   ]
  },
  {
   "cell_type": "code",
   "execution_count": 29,
   "metadata": {},
   "outputs": [],
   "source": [
    "from torch.utils.data import Dataset, DataLoader\n",
    "\n",
    "batch_size = 100000\n",
    "train_dl = DataLoader(train_ds, batch_size=batch_size, shuffle=True, num_workers=4)\n",
    "# for test we use shuffle=False\n",
    "valid_dl = DataLoader(valid_ds, batch_size=batch_size, shuffle=False,num_workers=4)\n",
    "test_dl = DataLoader(test_ds, batch_size=batch_size, shuffle=False,num_workers=4)"
   ]
  },
  {
   "cell_type": "markdown",
   "metadata": {},
   "source": [
    "## Baseline Model"
   ]
  },
  {
   "cell_type": "code",
   "execution_count": 30,
   "metadata": {},
   "outputs": [],
   "source": [
    "# mean of two means (mean(movie-rating) mean(user-rating))\n",
    "user_means = train_df.groupby(['userId']).mean()['rating']\n",
    "movie_means = train_df.groupby(['movieId']).mean()['rating']\n",
    "total_mean = train_df['rating'].mean()"
   ]
  },
  {
   "cell_type": "code",
   "execution_count": 31,
   "metadata": {},
   "outputs": [
    {
     "name": "stdout",
     "output_type": "stream",
     "text": [
      "1.334860792324501\n"
     ]
    }
   ],
   "source": [
    "import functools\n",
    "loss = []\n",
    "for i,row in test_df.iterrows():\n",
    "    val = (user_means[row.userId] + movie_means[row.movieId])/2\n",
    "    loss.append((val-row.rating)**2)\n",
    "print(functools.reduce(lambda x, y: x + y, loss) / len(loss))"
   ]
  },
  {
   "cell_type": "markdown",
   "metadata": {},
   "source": [
    "## Neural Network Model"
   ]
  },
  {
   "cell_type": "code",
   "execution_count": 32,
   "metadata": {},
   "outputs": [],
   "source": [
    "# Note here there is no matrix multiplication, we could potentially make the embeddings of different sizes.\n",
    "# Here we could get better results by keep playing with regularization.\n",
    "    \n",
    "class CollabFNet(nn.Module):\n",
    "    def __init__(self, num_users, num_items, emb_size=100, n_hidden=500):\n",
    "        super().__init__()\n",
    "        self.embs = nn.ModuleList([nn.Embedding(num_users, emb_size), nn.Embedding(num_items, emb_size)])\n",
    "        self.lin1 = nn.Linear(emb_size*2, n_hidden)\n",
    "        self.lin2 = nn.Linear(n_hidden, 1)\n",
    "        self.drop1 = nn.Dropout(0.1)\n",
    "        self.drop2 = nn.Dropout(0.2)\n",
    "        self.bn1 = nn.BatchNorm1d(emb_size*2)\n",
    "        self.bn2 = nn.BatchNorm1d(n_hidden)\n",
    "        \n",
    "    def forward(self, u, v):\n",
    "        U = self.embs[0](u)\n",
    "        V = self.embs[1](v)\n",
    "        x = self.bn1(torch.cat([U, V], dim=1))\n",
    "        x = F.relu(x)\n",
    "        x = self.drop1(x)\n",
    "        x = self.lin1(x)\n",
    "        x = F.relu(self.bn2(x))\n",
    "        x = self.drop2(x)\n",
    "        x = self.lin2(x)\n",
    "        return x"
   ]
  },
  {
   "cell_type": "markdown",
   "metadata": {},
   "source": [
    "## Training and Learning Rate Functions"
   ]
  },
  {
   "cell_type": "code",
   "execution_count": 33,
   "metadata": {},
   "outputs": [],
   "source": [
    "def train_loop(model, epochs, lr=0.01, wd=0.0):\n",
    "    # optim = get_optimizer(model, lr = lr, wd = wd)\n",
    "    for i in range(epochs): \n",
    "        loss = train_model(model, optim, train_dl)\n",
    "        print(\"loss \", loss)\n",
    "        val_loss(model, valid_dl)\n",
    "        \n",
    "def get_optimizer(model, lr = 0.01, wd = 0.0):\n",
    "    parameters = filter(lambda p: p.requires_grad, model.parameters())\n",
    "    optim = torch.optim.Adam(parameters, lr=lr, weight_decay=wd)\n",
    "    return optim\n",
    "        \n",
    "def train_triangle(model, epochs, train_dl=train_dl, lrs=None, verbose=False):\n",
    "    idx=0\n",
    "    for i in range(epochs): \n",
    "        model.train()\n",
    "        total = 0\n",
    "        sum_loss = 0\n",
    "        for sample in train_dl:\n",
    "            optim = get_optimizer(model, lr = lrs[idx], wd = 0.00001)\n",
    "            x = sample['x'].to(device)\n",
    "            y = sample['y'].unsqueeze(1).to(device)\n",
    "            batch = y.shape[0]\n",
    "            y_hat = model(x[:,0], x[:,1])\n",
    "            loss = F.mse_loss(y_hat, y)\n",
    "            optim.zero_grad()\n",
    "            loss.backward()\n",
    "            optim.step()\n",
    "            total += batch\n",
    "            sum_loss += batch*(loss.item())\n",
    "            if verbose: print(sum_loss/total)\n",
    "        print(\"train loss \", sum_loss/total)\n",
    "        val_loss(model, valid_dl)\n",
    "    return sum_loss/total\n",
    "\n",
    "def val_loss(model, valid_dl):\n",
    "    model.eval()\n",
    "    with torch.no_grad():\n",
    "        total = 0\n",
    "        sum_loss = 0\n",
    "        correct = 0\n",
    "        for sample in valid_dl:\n",
    "            x = sample['x'].to(device)\n",
    "            y = sample['y'].unsqueeze(1).to(device)\n",
    "            batch = y.shape[0]\n",
    "            y_hat = model(x[:,0], x[:,1])\n",
    "            loss = F.mse_loss(y_hat, y)\n",
    "            sum_loss += batch*(loss.item())\n",
    "            total += batch\n",
    "        print(\"val loss\", sum_loss/total)\n",
    "        return sum_loss/total\n",
    "\n",
    "def sltr(num_epochs, train_size, eta_max=0.01, cut_frac=0.1, ratio=32):\n",
    "    '''Slanted triangular learning rates written from ULMFiT paper\n",
    "        see [ULMFit](https://arxiv.org/abs/1801.06146)\n",
    "    '''\n",
    "    training_iterations = num_epochs * train_size\n",
    "    cut = math.floor(training_iterations * cut_frac)\n",
    "    lr = [None for _ in range(training_iterations)]\n",
    "    for t in range(training_iterations):\n",
    "        if t<cut: \n",
    "            p=t/cut\n",
    "        else: \n",
    "            p=1-((t-cut)/(cut*(1/cut_frac-1)))\n",
    "        lr[t] = eta_max * (1+p*(ratio-1))/ratio\n",
    "    return lr\n",
    "\n",
    "def learning_rate_range(model, train_dl, lr_high=0.1, epochs=2):\n",
    "    save_model(model, str(PATH/\"model_tmp.pth\"))\n",
    "    losses = []\n",
    "    iterations = len(train_dl) * epochs\n",
    "    delta = (lr_high / iterations)\n",
    "    lrs = [i*delta for i in range(iterations)]\n",
    "    model.train()\n",
    "    ind = 0\n",
    "    for i in range(epochs):\n",
    "        for sample in train_dl:\n",
    "            optim = get_optimizer(model, lr=lrs[ind])\n",
    "            y = sample['y'].unsqueeze(1).to(device)\n",
    "            x = sample['x'].to(device)\n",
    "            batch = y.shape[0]\n",
    "            y_hat = model(x[:,0],x[:,1])\n",
    "            loss = F.mse_loss(y_hat, y)\n",
    "            optim.zero_grad()\n",
    "            loss.backward()\n",
    "            optim.step()\n",
    "            losses.append(loss.item())\n",
    "            ind+=1\n",
    "    load_model(model, str(PATH/\"model_tmp.pth\"))\n",
    "    return lrs, losses\n",
    "\n",
    "def save_model(model, location):\n",
    "    torch.save(model.state_dict(), location)\n",
    "\n",
    "def load_model(model, location):\n",
    "    model.load_state_dict(torch.load(location))"
   ]
  },
  {
   "cell_type": "markdown",
   "metadata": {},
   "source": [
    "## Finding Ideal Learning Rate Triangle"
   ]
  },
  {
   "cell_type": "code",
   "execution_count": 34,
   "metadata": {},
   "outputs": [],
   "source": [
    "num_users = len(train_df.userId.unique())\n",
    "num_items = len(train_df.movieId.unique())"
   ]
  },
  {
   "cell_type": "code",
   "execution_count": 35,
   "metadata": {},
   "outputs": [
    {
     "data": {
      "text/plain": [
       "CollabFNet(\n",
       "  (embs): ModuleList(\n",
       "    (0): Embedding(477948, 100)\n",
       "    (1): Embedding(17768, 100)\n",
       "  )\n",
       "  (lin1): Linear(in_features=200, out_features=500, bias=True)\n",
       "  (lin2): Linear(in_features=500, out_features=1, bias=True)\n",
       "  (drop1): Dropout(p=0.1)\n",
       "  (drop2): Dropout(p=0.2)\n",
       "  (bn1): BatchNorm1d(200, eps=1e-05, momentum=0.1, affine=True, track_running_stats=True)\n",
       "  (bn2): BatchNorm1d(500, eps=1e-05, momentum=0.1, affine=True, track_running_stats=True)\n",
       ")"
      ]
     },
     "execution_count": 35,
     "metadata": {},
     "output_type": "execute_result"
    }
   ],
   "source": [
    "device = torch.device(\"cuda:0\" if torch.cuda.is_available() else \"cpu\")\n",
    "model = CollabFNet(num_users, num_items, emb_size=100)\n",
    "if torch.cuda.device_count()>1:\n",
    "    print(\"Let's use\", torch.cuda.device_count(), \"GPUs!\")\n",
    "    model = nn.DataParallel(model)\n",
    "model.to(device)"
   ]
  },
  {
   "cell_type": "code",
   "execution_count": 36,
   "metadata": {},
   "outputs": [],
   "source": [
    "lrs, losses = learning_rate_range(model, train_dl, lr_high=0.02)"
   ]
  },
  {
   "cell_type": "code",
   "execution_count": 37,
   "metadata": {},
   "outputs": [
    {
     "data": {
      "text/plain": [
       "[<matplotlib.lines.Line2D at 0x7f6369d16e48>]"
      ]
     },
     "execution_count": 37,
     "metadata": {},
     "output_type": "execute_result"
    },
    {
     "data": {
      "image/png": "[encoded data removed]",
      "text/plain": [
       "<matplotlib.figure.Figure at 0x7f6452a23cc0>"
      ]
     },
     "metadata": {},
     "output_type": "display_data"
    }
   ],
   "source": [
    "plt.plot(lrs, losses)"
   ]
  },
  {
   "cell_type": "code",
   "execution_count": 38,
   "metadata": {},
   "outputs": [],
   "source": [
    "lrs = sltr(3, len(train_dl), eta_max=0.005)"
   ]
  },
  {
   "cell_type": "code",
   "execution_count": 39,
   "metadata": {},
   "outputs": [
    {
     "data": {
      "text/plain": [
       "[<matplotlib.lines.Line2D at 0x7f644f234dd8>]"
      ]
     },
     "execution_count": 39,
     "metadata": {},
     "output_type": "execute_result"
    },
    {
     "data": {
      "image/png": "[encoded data removed]",
      "text/plain": [
       "<matplotlib.figure.Figure at 0x7f5ece6b4978>"
      ]
     },
     "metadata": {},
     "output_type": "display_data"
    }
   ],
   "source": [
    "plt.plot(lrs)"
   ]
  },
  {
   "cell_type": "markdown",
   "metadata": {},
   "source": [
    "## Actual Training"
   ]
  },
  {
   "cell_type": "code",
   "execution_count": 40,
   "metadata": {},
   "outputs": [
    {
     "name": "stdout",
     "output_type": "stream",
     "text": [
      "train loss  2.0828457535871485\n",
      "val loss 1.3240366217368453\n",
      "train loss  1.0903149556996565\n",
      "val loss 1.318040445565114\n",
      "train loss  1.0760576321140825\n",
      "val loss 1.3065649346413075\n"
     ]
    },
    {
     "data": {
      "text/plain": [
       "1.0760576321140825"
      ]
     },
     "execution_count": 40,
     "metadata": {},
     "output_type": "execute_result"
    }
   ],
   "source": [
    "train_triangle(model, epochs=3, lrs=lrs)"
   ]
  },
  {
   "cell_type": "markdown",
   "metadata": {},
   "source": [
    "\n",
    "# References\n",
    "* This notebook is based on [lesson 5 of Jeremy Howard's Deep Learning Course](https://github.com/fastai/fastai/blob/master/courses/dl1/lesson5-movielens.ipynb)"
   ]
  }
 ],
 "metadata": {
  "celltoolbar": "Slideshow",
  "kernelspec": {
   "display_name": "Python 3",
   "language": "python",
   "name": "python3"
  },
  "language_info": {
   "codemirror_mode": {
    "name": "ipython",
    "version": 3
   },
   "file_extension": ".py",
   "mimetype": "text/x-python",
   "name": "python",
   "nbconvert_exporter": "python",
   "pygments_lexer": "ipython3",
   "version": "3.6.4"
  },
  "toc": {
   "nav_menu": {},
   "number_sections": true,
   "sideBar": true,
   "skip_h1_title": false,
   "toc_cell": false,
   "toc_position": {},
   "toc_section_display": "block",
   "toc_window_display": false
  }
 },
 "nbformat": 4,
 "nbformat_minor": 2
}
